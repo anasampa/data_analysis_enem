{
  "cells": [
    {
      "cell_type": "code",
      "execution_count": 1,
      "metadata": {
        "id": "8z_mPiGbgcuC"
      },
      "outputs": [],
      "source": [
        "import pandas as pd\n",
        "import numpy as np\n",
        "import seaborn as sns"
      ]
    },
    {
      "cell_type": "code",
      "source": [
        "#https://stackoverflow.com/questions/34615854/seaborn-countplot-with-normalized-y-axis-per-group\n",
        "#https://stackoverflow.com/questions/34615854/seaborn-countplot-with-normalized-y-axis-per-group/70978802#70978802"
      ],
      "metadata": {
        "id": "2y82_TofQwZR"
      },
      "execution_count": null,
      "outputs": []
    },
    {
      "cell_type": "code",
      "source": [
        "from google.colab import drive \n",
        "drive.mount('/content/drive')"
      ],
      "metadata": {
        "colab": {
          "base_uri": "https://localhost:8080/"
        },
        "id": "VljPusbxJdzo",
        "outputId": "fabe344e-f58a-412e-e01d-4be8180e230a"
      },
      "execution_count": 2,
      "outputs": [
        {
          "output_type": "stream",
          "name": "stdout",
          "text": [
            "Mounted at /content/drive\n"
          ]
        }
      ]
    },
    {
      "cell_type": "code",
      "source": [
        "path = \"/content/drive/MyDrive/SEMANTIX/\""
      ],
      "metadata": {
        "id": "ETBCM7s9KEtl"
      },
      "execution_count": 3,
      "outputs": []
    },
    {
      "cell_type": "code",
      "execution_count": 4,
      "metadata": {
        "id": "cCFoSpvDqv2J",
        "colab": {
          "base_uri": "https://localhost:8080/"
        },
        "outputId": "9311b7b9-9366-4b66-dab5-ba3254a71dd3"
      },
      "outputs": [
        {
          "output_type": "execute_result",
          "data": {
            "text/plain": [
              "(1885722, 77)"
            ]
          },
          "metadata": {},
          "execution_count": 4
        }
      ],
      "source": [
        "# Importação dos dados\n",
        "df = pd.read_csv(path+\"MICRODADOS_ENEM_2021.csv\", sep=\";\")#, encoding_errors='ignore')\n",
        "df.shape"
      ]
    },
    {
      "cell_type": "code",
      "execution_count": 5,
      "metadata": {
        "colab": {
          "base_uri": "https://localhost:8080/"
        },
        "id": "bCwLeWIQkbmI",
        "outputId": "ac4d23b7-e6e7-4c7b-8ec8-6f12ac4e756e"
      },
      "outputs": [
        {
          "output_type": "execute_result",
          "data": {
            "text/plain": [
              "Index(['Unnamed: 0', 'NU_INSCRICAO', 'NU_ANO', 'TP_FAIXA_ETARIA', 'TP_SEXO',\n",
              "       'TP_ESTADO_CIVIL', 'TP_COR_RACA', 'TP_NACIONALIDADE', 'TP_ST_CONCLUSAO',\n",
              "       'TP_ANO_CONCLUIU', 'TP_ESCOLA', 'TP_ENSINO', 'IN_TREINEIRO',\n",
              "       'CO_MUNICIPIO_ESC', 'NO_MUNICIPIO_ESC', 'CO_UF_ESC', 'SG_UF_ESC',\n",
              "       'TP_DEPENDENCIA_ADM_ESC', 'TP_LOCALIZACAO_ESC', 'TP_SIT_FUNC_ESC',\n",
              "       'CO_MUNICIPIO_PROVA', 'NO_MUNICIPIO_PROVA', 'CO_UF_PROVA',\n",
              "       'SG_UF_PROVA', 'TP_PRESENCA_CN', 'TP_PRESENCA_CH', 'TP_PRESENCA_LC',\n",
              "       'TP_PRESENCA_MT', 'CO_PROVA_CN', 'CO_PROVA_CH', 'CO_PROVA_LC',\n",
              "       'CO_PROVA_MT', 'NU_NOTA_CN', 'NU_NOTA_CH', 'NU_NOTA_LC', 'NU_NOTA_MT',\n",
              "       'TX_RESPOSTAS_CN', 'TX_RESPOSTAS_CH', 'TX_RESPOSTAS_LC',\n",
              "       'TX_RESPOSTAS_MT', 'TP_LINGUA', 'TX_GABARITO_CN', 'TX_GABARITO_CH',\n",
              "       'TX_GABARITO_LC', 'TX_GABARITO_MT', 'TP_STATUS_REDACAO',\n",
              "       'NU_NOTA_COMP1', 'NU_NOTA_COMP2', 'NU_NOTA_COMP3', 'NU_NOTA_COMP4',\n",
              "       'NU_NOTA_COMP5', 'NU_NOTA_REDACAO', 'Q001', 'Q002', 'Q003', 'Q004',\n",
              "       'Q005', 'Q006', 'Q007', 'Q008', 'Q009', 'Q010', 'Q011', 'Q012', 'Q013',\n",
              "       'Q014', 'Q015', 'Q016', 'Q017', 'Q018', 'Q019', 'Q020', 'Q021', 'Q022',\n",
              "       'Q023', 'Q024', 'Q025'],\n",
              "      dtype='object')"
            ]
          },
          "metadata": {},
          "execution_count": 5
        }
      ],
      "source": [
        "df.columns"
      ]
    },
    {
      "cell_type": "code",
      "execution_count": 6,
      "metadata": {
        "colab": {
          "base_uri": "https://localhost:8080/",
          "height": 300
        },
        "id": "S_q9OMYBeBhQ",
        "outputId": "5d5b841d-dd0d-47dd-fcfe-7ba09fb339a2"
      },
      "outputs": [
        {
          "output_type": "execute_result",
          "data": {
            "text/plain": [
              "  NO_MUNICIPIO_ESC SG_UF_ESC  TP_LOCALIZACAO_ESC  TP_DEPENDENCIA_ADM_ESC Q001  \\\n",
              "0              NaN       NaN                 NaN                     NaN    F   \n",
              "1              NaN       NaN                 NaN                     NaN    B   \n",
              "2              NaN       NaN                 NaN                     NaN    B   \n",
              "3            Crato        CE                 1.0                     2.0    B   \n",
              "4           Redeno        CE                 1.0                     2.0    D   \n",
              "\n",
              "  Q002 Q003 Q004  Q005 Q006  ... Q021 Q022 Q023 Q024 Q025 NU_NOTA_CN  \\\n",
              "0    F    B    B   3.0    D  ...    A    B    A    B    B        NaN   \n",
              "1    B    B    B   3.0    B  ...    A    C    A    A    A      505.9   \n",
              "2    C    C    B   3.0    C  ...    A    C    B    B    B        NaN   \n",
              "3    B    B    B   6.0    B  ...    A    B    A    B    B      580.7   \n",
              "4    E    F    D   4.0    C  ...    B    E    A    B    B      497.7   \n",
              "\n",
              "  NU_NOTA_CH NU_NOTA_LC NU_NOTA_MT NU_NOTA_REDACAO  \n",
              "0      574.6      472.6        NaN           760.0  \n",
              "1      551.8      498.3      461.5           560.0  \n",
              "2        NaN        NaN        NaN             NaN  \n",
              "3      678.9      638.9      659.5           780.0  \n",
              "4      532.4      457.6      582.6           780.0  \n",
              "\n",
              "[5 rows x 34 columns]"
            ],
            "text/html": [
              "\n",
              "  <div id=\"df-442b1ac6-8a7d-4e1e-9877-58380c2820ec\">\n",
              "    <div class=\"colab-df-container\">\n",
              "      <div>\n",
              "<style scoped>\n",
              "    .dataframe tbody tr th:only-of-type {\n",
              "        vertical-align: middle;\n",
              "    }\n",
              "\n",
              "    .dataframe tbody tr th {\n",
              "        vertical-align: top;\n",
              "    }\n",
              "\n",
              "    .dataframe thead th {\n",
              "        text-align: right;\n",
              "    }\n",
              "</style>\n",
              "<table border=\"1\" class=\"dataframe\">\n",
              "  <thead>\n",
              "    <tr style=\"text-align: right;\">\n",
              "      <th></th>\n",
              "      <th>NO_MUNICIPIO_ESC</th>\n",
              "      <th>SG_UF_ESC</th>\n",
              "      <th>TP_LOCALIZACAO_ESC</th>\n",
              "      <th>TP_DEPENDENCIA_ADM_ESC</th>\n",
              "      <th>Q001</th>\n",
              "      <th>Q002</th>\n",
              "      <th>Q003</th>\n",
              "      <th>Q004</th>\n",
              "      <th>Q005</th>\n",
              "      <th>Q006</th>\n",
              "      <th>...</th>\n",
              "      <th>Q021</th>\n",
              "      <th>Q022</th>\n",
              "      <th>Q023</th>\n",
              "      <th>Q024</th>\n",
              "      <th>Q025</th>\n",
              "      <th>NU_NOTA_CN</th>\n",
              "      <th>NU_NOTA_CH</th>\n",
              "      <th>NU_NOTA_LC</th>\n",
              "      <th>NU_NOTA_MT</th>\n",
              "      <th>NU_NOTA_REDACAO</th>\n",
              "    </tr>\n",
              "  </thead>\n",
              "  <tbody>\n",
              "    <tr>\n",
              "      <th>0</th>\n",
              "      <td>NaN</td>\n",
              "      <td>NaN</td>\n",
              "      <td>NaN</td>\n",
              "      <td>NaN</td>\n",
              "      <td>F</td>\n",
              "      <td>F</td>\n",
              "      <td>B</td>\n",
              "      <td>B</td>\n",
              "      <td>3.0</td>\n",
              "      <td>D</td>\n",
              "      <td>...</td>\n",
              "      <td>A</td>\n",
              "      <td>B</td>\n",
              "      <td>A</td>\n",
              "      <td>B</td>\n",
              "      <td>B</td>\n",
              "      <td>NaN</td>\n",
              "      <td>574.6</td>\n",
              "      <td>472.6</td>\n",
              "      <td>NaN</td>\n",
              "      <td>760.0</td>\n",
              "    </tr>\n",
              "    <tr>\n",
              "      <th>1</th>\n",
              "      <td>NaN</td>\n",
              "      <td>NaN</td>\n",
              "      <td>NaN</td>\n",
              "      <td>NaN</td>\n",
              "      <td>B</td>\n",
              "      <td>B</td>\n",
              "      <td>B</td>\n",
              "      <td>B</td>\n",
              "      <td>3.0</td>\n",
              "      <td>B</td>\n",
              "      <td>...</td>\n",
              "      <td>A</td>\n",
              "      <td>C</td>\n",
              "      <td>A</td>\n",
              "      <td>A</td>\n",
              "      <td>A</td>\n",
              "      <td>505.9</td>\n",
              "      <td>551.8</td>\n",
              "      <td>498.3</td>\n",
              "      <td>461.5</td>\n",
              "      <td>560.0</td>\n",
              "    </tr>\n",
              "    <tr>\n",
              "      <th>2</th>\n",
              "      <td>NaN</td>\n",
              "      <td>NaN</td>\n",
              "      <td>NaN</td>\n",
              "      <td>NaN</td>\n",
              "      <td>B</td>\n",
              "      <td>C</td>\n",
              "      <td>C</td>\n",
              "      <td>B</td>\n",
              "      <td>3.0</td>\n",
              "      <td>C</td>\n",
              "      <td>...</td>\n",
              "      <td>A</td>\n",
              "      <td>C</td>\n",
              "      <td>B</td>\n",
              "      <td>B</td>\n",
              "      <td>B</td>\n",
              "      <td>NaN</td>\n",
              "      <td>NaN</td>\n",
              "      <td>NaN</td>\n",
              "      <td>NaN</td>\n",
              "      <td>NaN</td>\n",
              "    </tr>\n",
              "    <tr>\n",
              "      <th>3</th>\n",
              "      <td>Crato</td>\n",
              "      <td>CE</td>\n",
              "      <td>1.0</td>\n",
              "      <td>2.0</td>\n",
              "      <td>B</td>\n",
              "      <td>B</td>\n",
              "      <td>B</td>\n",
              "      <td>B</td>\n",
              "      <td>6.0</td>\n",
              "      <td>B</td>\n",
              "      <td>...</td>\n",
              "      <td>A</td>\n",
              "      <td>B</td>\n",
              "      <td>A</td>\n",
              "      <td>B</td>\n",
              "      <td>B</td>\n",
              "      <td>580.7</td>\n",
              "      <td>678.9</td>\n",
              "      <td>638.9</td>\n",
              "      <td>659.5</td>\n",
              "      <td>780.0</td>\n",
              "    </tr>\n",
              "    <tr>\n",
              "      <th>4</th>\n",
              "      <td>Redeno</td>\n",
              "      <td>CE</td>\n",
              "      <td>1.0</td>\n",
              "      <td>2.0</td>\n",
              "      <td>D</td>\n",
              "      <td>E</td>\n",
              "      <td>F</td>\n",
              "      <td>D</td>\n",
              "      <td>4.0</td>\n",
              "      <td>C</td>\n",
              "      <td>...</td>\n",
              "      <td>B</td>\n",
              "      <td>E</td>\n",
              "      <td>A</td>\n",
              "      <td>B</td>\n",
              "      <td>B</td>\n",
              "      <td>497.7</td>\n",
              "      <td>532.4</td>\n",
              "      <td>457.6</td>\n",
              "      <td>582.6</td>\n",
              "      <td>780.0</td>\n",
              "    </tr>\n",
              "  </tbody>\n",
              "</table>\n",
              "<p>5 rows × 34 columns</p>\n",
              "</div>\n",
              "      <button class=\"colab-df-convert\" onclick=\"convertToInteractive('df-442b1ac6-8a7d-4e1e-9877-58380c2820ec')\"\n",
              "              title=\"Convert this dataframe to an interactive table.\"\n",
              "              style=\"display:none;\">\n",
              "        \n",
              "  <svg xmlns=\"http://www.w3.org/2000/svg\" height=\"24px\"viewBox=\"0 0 24 24\"\n",
              "       width=\"24px\">\n",
              "    <path d=\"M0 0h24v24H0V0z\" fill=\"none\"/>\n",
              "    <path d=\"M18.56 5.44l.94 2.06.94-2.06 2.06-.94-2.06-.94-.94-2.06-.94 2.06-2.06.94zm-11 1L8.5 8.5l.94-2.06 2.06-.94-2.06-.94L8.5 2.5l-.94 2.06-2.06.94zm10 10l.94 2.06.94-2.06 2.06-.94-2.06-.94-.94-2.06-.94 2.06-2.06.94z\"/><path d=\"M17.41 7.96l-1.37-1.37c-.4-.4-.92-.59-1.43-.59-.52 0-1.04.2-1.43.59L10.3 9.45l-7.72 7.72c-.78.78-.78 2.05 0 2.83L4 21.41c.39.39.9.59 1.41.59.51 0 1.02-.2 1.41-.59l7.78-7.78 2.81-2.81c.8-.78.8-2.07 0-2.86zM5.41 20L4 18.59l7.72-7.72 1.47 1.35L5.41 20z\"/>\n",
              "  </svg>\n",
              "      </button>\n",
              "      \n",
              "  <style>\n",
              "    .colab-df-container {\n",
              "      display:flex;\n",
              "      flex-wrap:wrap;\n",
              "      gap: 12px;\n",
              "    }\n",
              "\n",
              "    .colab-df-convert {\n",
              "      background-color: #E8F0FE;\n",
              "      border: none;\n",
              "      border-radius: 50%;\n",
              "      cursor: pointer;\n",
              "      display: none;\n",
              "      fill: #1967D2;\n",
              "      height: 32px;\n",
              "      padding: 0 0 0 0;\n",
              "      width: 32px;\n",
              "    }\n",
              "\n",
              "    .colab-df-convert:hover {\n",
              "      background-color: #E2EBFA;\n",
              "      box-shadow: 0px 1px 2px rgba(60, 64, 67, 0.3), 0px 1px 3px 1px rgba(60, 64, 67, 0.15);\n",
              "      fill: #174EA6;\n",
              "    }\n",
              "\n",
              "    [theme=dark] .colab-df-convert {\n",
              "      background-color: #3B4455;\n",
              "      fill: #D2E3FC;\n",
              "    }\n",
              "\n",
              "    [theme=dark] .colab-df-convert:hover {\n",
              "      background-color: #434B5C;\n",
              "      box-shadow: 0px 1px 3px 1px rgba(0, 0, 0, 0.15);\n",
              "      filter: drop-shadow(0px 1px 2px rgba(0, 0, 0, 0.3));\n",
              "      fill: #FFFFFF;\n",
              "    }\n",
              "  </style>\n",
              "\n",
              "      <script>\n",
              "        const buttonEl =\n",
              "          document.querySelector('#df-442b1ac6-8a7d-4e1e-9877-58380c2820ec button.colab-df-convert');\n",
              "        buttonEl.style.display =\n",
              "          google.colab.kernel.accessAllowed ? 'block' : 'none';\n",
              "\n",
              "        async function convertToInteractive(key) {\n",
              "          const element = document.querySelector('#df-442b1ac6-8a7d-4e1e-9877-58380c2820ec');\n",
              "          const dataTable =\n",
              "            await google.colab.kernel.invokeFunction('convertToInteractive',\n",
              "                                                     [key], {});\n",
              "          if (!dataTable) return;\n",
              "\n",
              "          const docLinkHtml = 'Like what you see? Visit the ' +\n",
              "            '<a target=\"_blank\" href=https://colab.research.google.com/notebooks/data_table.ipynb>data table notebook</a>'\n",
              "            + ' to learn more about interactive tables.';\n",
              "          element.innerHTML = '';\n",
              "          dataTable['output_type'] = 'display_data';\n",
              "          await google.colab.output.renderOutput(dataTable, element);\n",
              "          const docLink = document.createElement('div');\n",
              "          docLink.innerHTML = docLinkHtml;\n",
              "          element.appendChild(docLink);\n",
              "        }\n",
              "      </script>\n",
              "    </div>\n",
              "  </div>\n",
              "  "
            ]
          },
          "metadata": {},
          "execution_count": 6
        }
      ],
      "source": [
        "# Seleção de variáveis não equivalentes. \n",
        "# Algumas variáveis são equivalentes, como por exemplo nome e código da cidade, representando o mesmo parâmetro: cidade.\n",
        "# Foram selecionada as colunas com variáveis distintas. \n",
        "\n",
        "columns = ['NO_MUNICIPIO_ESC',\n",
        "           'SG_UF_ESC',\n",
        "           'TP_LOCALIZACAO_ESC',\n",
        "           'TP_DEPENDENCIA_ADM_ESC',\n",
        "           'Q001', 'Q002', 'Q003', 'Q004', 'Q005', \n",
        "           'Q006', 'Q007', 'Q008', 'Q009', 'Q010', \n",
        "           'Q011', 'Q012', 'Q013', 'Q014', 'Q015', \n",
        "           'Q016', 'Q017', 'Q018', 'Q019', 'Q020', \n",
        "           'Q021', 'Q022', 'Q023', 'Q024', 'Q025',\n",
        "           'NU_NOTA_CN',\n",
        "           'NU_NOTA_CH',\n",
        "           'NU_NOTA_LC',\n",
        "           'NU_NOTA_MT',\n",
        "           'NU_NOTA_REDACAO',\n",
        "           ] \n",
        "df = df[columns]\n",
        "df.head(5)"
      ]
    },
    {
      "cell_type": "code",
      "execution_count": 7,
      "metadata": {
        "colab": {
          "base_uri": "https://localhost:8080/"
        },
        "id": "x4e_G6k7lXAh",
        "outputId": "d7bf4efe-46b1-4f4a-faef-0b6901a7a8d9"
      },
      "outputs": [
        {
          "output_type": "execute_result",
          "data": {
            "text/plain": [
              "(1885722, 34)"
            ]
          },
          "metadata": {},
          "execution_count": 7
        }
      ],
      "source": [
        "# Removendo linhas completamente nulas\n",
        "df = df.dropna(axis=0,how='all')\n",
        "df.shape"
      ]
    },
    {
      "cell_type": "code",
      "execution_count": 8,
      "metadata": {
        "colab": {
          "base_uri": "https://localhost:8080/"
        },
        "id": "ccB_dAp8iixf",
        "outputId": "31d8f355-fd90-452f-b31f-8cfac790f21d"
      },
      "outputs": [
        {
          "output_type": "stream",
          "name": "stdout",
          "text": [
            "NO_MUNICIPIO_ESC 1358651\n",
            "SG_UF_ESC 1358651\n",
            "TP_LOCALIZACAO_ESC 1358651\n",
            "TP_DEPENDENCIA_ADM_ESC 1358651\n",
            "Q001 1\n",
            "Q002 1\n",
            "Q003 1\n",
            "Q004 2\n",
            "Q005 2\n",
            "Q006 2\n",
            "Q007 2\n",
            "Q008 2\n",
            "Q009 2\n",
            "Q010 2\n",
            "Q011 2\n",
            "Q012 2\n",
            "Q013 2\n",
            "Q014 2\n",
            "Q015 2\n",
            "Q016 2\n",
            "Q017 2\n",
            "Q018 2\n",
            "Q019 2\n",
            "Q020 2\n",
            "Q021 2\n",
            "Q022 2\n",
            "Q023 2\n",
            "Q024 2\n",
            "Q025 2\n",
            "NU_NOTA_CN 494953\n",
            "NU_NOTA_CH 426835\n",
            "NU_NOTA_LC 426835\n",
            "NU_NOTA_MT 494953\n",
            "NU_NOTA_REDACAO 426835\n"
          ]
        }
      ],
      "source": [
        "# Quantidade de valores nulos por variável\n",
        "for column in df.columns:\n",
        "  count_na = df[column].isna().sum()\n",
        "  print(column, count_na)"
      ]
    },
    {
      "cell_type": "markdown",
      "metadata": {
        "id": "82esiPz3rOsp"
      },
      "source": [
        "# Medidas totais"
      ]
    },
    {
      "cell_type": "markdown",
      "metadata": {
        "id": "4Rf2Z8Skq4ol"
      },
      "source": [
        "## Medidas resumo (variáveis quantitativas)"
      ]
    },
    {
      "cell_type": "code",
      "execution_count": 9,
      "metadata": {
        "colab": {
          "base_uri": "https://localhost:8080/"
        },
        "id": "Z3qbTJqwoTw8",
        "outputId": "c55b5b84-fa2d-45ea-f123-5f5ff45a0276"
      },
      "outputs": [
        {
          "output_type": "execute_result",
          "data": {
            "text/plain": [
              "NU_NOTA_CN        492.64\n",
              "NU_NOTA_CH        522.04\n",
              "NU_NOTA_LC        503.59\n",
              "NU_NOTA_MT        536.94\n",
              "NU_NOTA_REDACAO   629.73\n",
              "dtype: float64"
            ]
          },
          "metadata": {},
          "execution_count": 9
        }
      ],
      "source": [
        "# Média notas \n",
        "pd.set_option('display.float_format', lambda x: '%.2f' % x)\n",
        "columns = ['NU_NOTA_CN','NU_NOTA_CH','NU_NOTA_LC','NU_NOTA_MT','NU_NOTA_REDACAO']\n",
        "df[columns].mean(axis=0)"
      ]
    },
    {
      "cell_type": "code",
      "execution_count": 10,
      "metadata": {
        "colab": {
          "base_uri": "https://localhost:8080/",
          "height": 300
        },
        "id": "X7hEwW0xrGjm",
        "outputId": "c43e2c07-d90f-45ef-8cc5-b8aec86c98c2"
      },
      "outputs": [
        {
          "output_type": "execute_result",
          "data": {
            "text/plain": [
              "       NU_NOTA_CN  NU_NOTA_CH  NU_NOTA_LC  NU_NOTA_MT  NU_NOTA_REDACAO\n",
              "count  1390769.00  1458887.00  1458887.00  1390769.00       1458887.00\n",
              "mean       492.64      522.04      503.59      536.94           629.73\n",
              "std         82.24       96.00       79.58      111.99           190.99\n",
              "min          0.00        0.00        0.00        0.00             0.00\n",
              "25%        430.50      447.30      448.20      445.20           540.00\n",
              "50%        481.40      523.60      506.50      515.90           620.00\n",
              "75%        547.20      591.30      559.90      616.30           760.00\n",
              "max        867.10      846.90      826.10      953.10          1000.00"
            ],
            "text/html": [
              "\n",
              "  <div id=\"df-de1750e7-f098-4537-a1d3-cd7d107003cf\">\n",
              "    <div class=\"colab-df-container\">\n",
              "      <div>\n",
              "<style scoped>\n",
              "    .dataframe tbody tr th:only-of-type {\n",
              "        vertical-align: middle;\n",
              "    }\n",
              "\n",
              "    .dataframe tbody tr th {\n",
              "        vertical-align: top;\n",
              "    }\n",
              "\n",
              "    .dataframe thead th {\n",
              "        text-align: right;\n",
              "    }\n",
              "</style>\n",
              "<table border=\"1\" class=\"dataframe\">\n",
              "  <thead>\n",
              "    <tr style=\"text-align: right;\">\n",
              "      <th></th>\n",
              "      <th>NU_NOTA_CN</th>\n",
              "      <th>NU_NOTA_CH</th>\n",
              "      <th>NU_NOTA_LC</th>\n",
              "      <th>NU_NOTA_MT</th>\n",
              "      <th>NU_NOTA_REDACAO</th>\n",
              "    </tr>\n",
              "  </thead>\n",
              "  <tbody>\n",
              "    <tr>\n",
              "      <th>count</th>\n",
              "      <td>1390769.00</td>\n",
              "      <td>1458887.00</td>\n",
              "      <td>1458887.00</td>\n",
              "      <td>1390769.00</td>\n",
              "      <td>1458887.00</td>\n",
              "    </tr>\n",
              "    <tr>\n",
              "      <th>mean</th>\n",
              "      <td>492.64</td>\n",
              "      <td>522.04</td>\n",
              "      <td>503.59</td>\n",
              "      <td>536.94</td>\n",
              "      <td>629.73</td>\n",
              "    </tr>\n",
              "    <tr>\n",
              "      <th>std</th>\n",
              "      <td>82.24</td>\n",
              "      <td>96.00</td>\n",
              "      <td>79.58</td>\n",
              "      <td>111.99</td>\n",
              "      <td>190.99</td>\n",
              "    </tr>\n",
              "    <tr>\n",
              "      <th>min</th>\n",
              "      <td>0.00</td>\n",
              "      <td>0.00</td>\n",
              "      <td>0.00</td>\n",
              "      <td>0.00</td>\n",
              "      <td>0.00</td>\n",
              "    </tr>\n",
              "    <tr>\n",
              "      <th>25%</th>\n",
              "      <td>430.50</td>\n",
              "      <td>447.30</td>\n",
              "      <td>448.20</td>\n",
              "      <td>445.20</td>\n",
              "      <td>540.00</td>\n",
              "    </tr>\n",
              "    <tr>\n",
              "      <th>50%</th>\n",
              "      <td>481.40</td>\n",
              "      <td>523.60</td>\n",
              "      <td>506.50</td>\n",
              "      <td>515.90</td>\n",
              "      <td>620.00</td>\n",
              "    </tr>\n",
              "    <tr>\n",
              "      <th>75%</th>\n",
              "      <td>547.20</td>\n",
              "      <td>591.30</td>\n",
              "      <td>559.90</td>\n",
              "      <td>616.30</td>\n",
              "      <td>760.00</td>\n",
              "    </tr>\n",
              "    <tr>\n",
              "      <th>max</th>\n",
              "      <td>867.10</td>\n",
              "      <td>846.90</td>\n",
              "      <td>826.10</td>\n",
              "      <td>953.10</td>\n",
              "      <td>1000.00</td>\n",
              "    </tr>\n",
              "  </tbody>\n",
              "</table>\n",
              "</div>\n",
              "      <button class=\"colab-df-convert\" onclick=\"convertToInteractive('df-de1750e7-f098-4537-a1d3-cd7d107003cf')\"\n",
              "              title=\"Convert this dataframe to an interactive table.\"\n",
              "              style=\"display:none;\">\n",
              "        \n",
              "  <svg xmlns=\"http://www.w3.org/2000/svg\" height=\"24px\"viewBox=\"0 0 24 24\"\n",
              "       width=\"24px\">\n",
              "    <path d=\"M0 0h24v24H0V0z\" fill=\"none\"/>\n",
              "    <path d=\"M18.56 5.44l.94 2.06.94-2.06 2.06-.94-2.06-.94-.94-2.06-.94 2.06-2.06.94zm-11 1L8.5 8.5l.94-2.06 2.06-.94-2.06-.94L8.5 2.5l-.94 2.06-2.06.94zm10 10l.94 2.06.94-2.06 2.06-.94-2.06-.94-.94-2.06-.94 2.06-2.06.94z\"/><path d=\"M17.41 7.96l-1.37-1.37c-.4-.4-.92-.59-1.43-.59-.52 0-1.04.2-1.43.59L10.3 9.45l-7.72 7.72c-.78.78-.78 2.05 0 2.83L4 21.41c.39.39.9.59 1.41.59.51 0 1.02-.2 1.41-.59l7.78-7.78 2.81-2.81c.8-.78.8-2.07 0-2.86zM5.41 20L4 18.59l7.72-7.72 1.47 1.35L5.41 20z\"/>\n",
              "  </svg>\n",
              "      </button>\n",
              "      \n",
              "  <style>\n",
              "    .colab-df-container {\n",
              "      display:flex;\n",
              "      flex-wrap:wrap;\n",
              "      gap: 12px;\n",
              "    }\n",
              "\n",
              "    .colab-df-convert {\n",
              "      background-color: #E8F0FE;\n",
              "      border: none;\n",
              "      border-radius: 50%;\n",
              "      cursor: pointer;\n",
              "      display: none;\n",
              "      fill: #1967D2;\n",
              "      height: 32px;\n",
              "      padding: 0 0 0 0;\n",
              "      width: 32px;\n",
              "    }\n",
              "\n",
              "    .colab-df-convert:hover {\n",
              "      background-color: #E2EBFA;\n",
              "      box-shadow: 0px 1px 2px rgba(60, 64, 67, 0.3), 0px 1px 3px 1px rgba(60, 64, 67, 0.15);\n",
              "      fill: #174EA6;\n",
              "    }\n",
              "\n",
              "    [theme=dark] .colab-df-convert {\n",
              "      background-color: #3B4455;\n",
              "      fill: #D2E3FC;\n",
              "    }\n",
              "\n",
              "    [theme=dark] .colab-df-convert:hover {\n",
              "      background-color: #434B5C;\n",
              "      box-shadow: 0px 1px 3px 1px rgba(0, 0, 0, 0.15);\n",
              "      filter: drop-shadow(0px 1px 2px rgba(0, 0, 0, 0.3));\n",
              "      fill: #FFFFFF;\n",
              "    }\n",
              "  </style>\n",
              "\n",
              "      <script>\n",
              "        const buttonEl =\n",
              "          document.querySelector('#df-de1750e7-f098-4537-a1d3-cd7d107003cf button.colab-df-convert');\n",
              "        buttonEl.style.display =\n",
              "          google.colab.kernel.accessAllowed ? 'block' : 'none';\n",
              "\n",
              "        async function convertToInteractive(key) {\n",
              "          const element = document.querySelector('#df-de1750e7-f098-4537-a1d3-cd7d107003cf');\n",
              "          const dataTable =\n",
              "            await google.colab.kernel.invokeFunction('convertToInteractive',\n",
              "                                                     [key], {});\n",
              "          if (!dataTable) return;\n",
              "\n",
              "          const docLinkHtml = 'Like what you see? Visit the ' +\n",
              "            '<a target=\"_blank\" href=https://colab.research.google.com/notebooks/data_table.ipynb>data table notebook</a>'\n",
              "            + ' to learn more about interactive tables.';\n",
              "          element.innerHTML = '';\n",
              "          dataTable['output_type'] = 'display_data';\n",
              "          await google.colab.output.renderOutput(dataTable, element);\n",
              "          const docLink = document.createElement('div');\n",
              "          docLink.innerHTML = docLinkHtml;\n",
              "          element.appendChild(docLink);\n",
              "        }\n",
              "      </script>\n",
              "    </div>\n",
              "  </div>\n",
              "  "
            ]
          },
          "metadata": {},
          "execution_count": 10
        }
      ],
      "source": [
        "# Média, desvio, mínimo, quantis (25%, 50%, 75%), máximo\n",
        "df[columns].describe()"
      ]
    },
    {
      "cell_type": "code",
      "execution_count": null,
      "metadata": {
        "colab": {
          "base_uri": "https://localhost:8080/",
          "height": 265
        },
        "id": "aJV3aj14x0bD",
        "outputId": "d7f49d5f-a4cc-403a-d6a6-f917bb3da262"
      },
      "outputs": [
        {
          "data": {
            "image/png": "[encoded data removed]",
            "text/plain": [
              "<Figure size 432x288 with 1 Axes>"
            ]
          },
          "metadata": {},
          "output_type": "display_data"
        }
      ],
      "source": [
        "# Distribuição notas\n",
        "# Redação\n",
        "ax = df['NU_NOTA_REDACAO'].plot.hist(bins=20, alpha=0.7)"
      ]
    },
    {
      "cell_type": "markdown",
      "metadata": {
        "id": "r6hzKSF4vk8i"
      },
      "source": [
        "## Avaliação das notas em relação a região geográfica."
      ]
    },
    {
      "cell_type": "markdown",
      "metadata": {
        "id": "I_qVRV9s2wVx"
      },
      "source": [
        "## Avaliação das notas em relação a administração das escolas."
      ]
    },
    {
      "cell_type": "code",
      "source": [
        "adm_dict = {1:'Federal',\n",
        "            2:'Estadual',\n",
        "            3:'Municipal',\n",
        "            4:'Privada'}\n",
        "df = df.replace({\"TP_DEPENDENCIA_ADM_ESC\":adm_dict})#, inplace=True)\n",
        "df.head(2)"
      ],
      "metadata": {
        "colab": {
          "base_uri": "https://localhost:8080/",
          "height": 205
        },
        "id": "DbXXwIi3MFEb",
        "outputId": "9e9ecff9-e565-4d5f-e539-a3d4dc6e1091"
      },
      "execution_count": 11,
      "outputs": [
        {
          "output_type": "execute_result",
          "data": {
            "text/plain": [
              "  NO_MUNICIPIO_ESC SG_UF_ESC  TP_LOCALIZACAO_ESC TP_DEPENDENCIA_ADM_ESC Q001  \\\n",
              "0              NaN       NaN                 NaN                    NaN    F   \n",
              "1              NaN       NaN                 NaN                    NaN    B   \n",
              "\n",
              "  Q002 Q003 Q004  Q005 Q006  ... Q021 Q022 Q023 Q024 Q025 NU_NOTA_CN  \\\n",
              "0    F    B    B  3.00    D  ...    A    B    A    B    B        NaN   \n",
              "1    B    B    B  3.00    B  ...    A    C    A    A    A     505.90   \n",
              "\n",
              "  NU_NOTA_CH NU_NOTA_LC NU_NOTA_MT NU_NOTA_REDACAO  \n",
              "0     574.60     472.60        NaN          760.00  \n",
              "1     551.80     498.30     461.50          560.00  \n",
              "\n",
              "[2 rows x 34 columns]"
            ],
            "text/html": [
              "\n",
              "  <div id=\"df-dc465e91-39fb-4d8c-b174-0ff7752716e0\">\n",
              "    <div class=\"colab-df-container\">\n",
              "      <div>\n",
              "<style scoped>\n",
              "    .dataframe tbody tr th:only-of-type {\n",
              "        vertical-align: middle;\n",
              "    }\n",
              "\n",
              "    .dataframe tbody tr th {\n",
              "        vertical-align: top;\n",
              "    }\n",
              "\n",
              "    .dataframe thead th {\n",
              "        text-align: right;\n",
              "    }\n",
              "</style>\n",
              "<table border=\"1\" class=\"dataframe\">\n",
              "  <thead>\n",
              "    <tr style=\"text-align: right;\">\n",
              "      <th></th>\n",
              "      <th>NO_MUNICIPIO_ESC</th>\n",
              "      <th>SG_UF_ESC</th>\n",
              "      <th>TP_LOCALIZACAO_ESC</th>\n",
              "      <th>TP_DEPENDENCIA_ADM_ESC</th>\n",
              "      <th>Q001</th>\n",
              "      <th>Q002</th>\n",
              "      <th>Q003</th>\n",
              "      <th>Q004</th>\n",
              "      <th>Q005</th>\n",
              "      <th>Q006</th>\n",
              "      <th>...</th>\n",
              "      <th>Q021</th>\n",
              "      <th>Q022</th>\n",
              "      <th>Q023</th>\n",
              "      <th>Q024</th>\n",
              "      <th>Q025</th>\n",
              "      <th>NU_NOTA_CN</th>\n",
              "      <th>NU_NOTA_CH</th>\n",
              "      <th>NU_NOTA_LC</th>\n",
              "      <th>NU_NOTA_MT</th>\n",
              "      <th>NU_NOTA_REDACAO</th>\n",
              "    </tr>\n",
              "  </thead>\n",
              "  <tbody>\n",
              "    <tr>\n",
              "      <th>0</th>\n",
              "      <td>NaN</td>\n",
              "      <td>NaN</td>\n",
              "      <td>NaN</td>\n",
              "      <td>NaN</td>\n",
              "      <td>F</td>\n",
              "      <td>F</td>\n",
              "      <td>B</td>\n",
              "      <td>B</td>\n",
              "      <td>3.00</td>\n",
              "      <td>D</td>\n",
              "      <td>...</td>\n",
              "      <td>A</td>\n",
              "      <td>B</td>\n",
              "      <td>A</td>\n",
              "      <td>B</td>\n",
              "      <td>B</td>\n",
              "      <td>NaN</td>\n",
              "      <td>574.60</td>\n",
              "      <td>472.60</td>\n",
              "      <td>NaN</td>\n",
              "      <td>760.00</td>\n",
              "    </tr>\n",
              "    <tr>\n",
              "      <th>1</th>\n",
              "      <td>NaN</td>\n",
              "      <td>NaN</td>\n",
              "      <td>NaN</td>\n",
              "      <td>NaN</td>\n",
              "      <td>B</td>\n",
              "      <td>B</td>\n",
              "      <td>B</td>\n",
              "      <td>B</td>\n",
              "      <td>3.00</td>\n",
              "      <td>B</td>\n",
              "      <td>...</td>\n",
              "      <td>A</td>\n",
              "      <td>C</td>\n",
              "      <td>A</td>\n",
              "      <td>A</td>\n",
              "      <td>A</td>\n",
              "      <td>505.90</td>\n",
              "      <td>551.80</td>\n",
              "      <td>498.30</td>\n",
              "      <td>461.50</td>\n",
              "      <td>560.00</td>\n",
              "    </tr>\n",
              "  </tbody>\n",
              "</table>\n",
              "<p>2 rows × 34 columns</p>\n",
              "</div>\n",
              "      <button class=\"colab-df-convert\" onclick=\"convertToInteractive('df-dc465e91-39fb-4d8c-b174-0ff7752716e0')\"\n",
              "              title=\"Convert this dataframe to an interactive table.\"\n",
              "              style=\"display:none;\">\n",
              "        \n",
              "  <svg xmlns=\"http://www.w3.org/2000/svg\" height=\"24px\"viewBox=\"0 0 24 24\"\n",
              "       width=\"24px\">\n",
              "    <path d=\"M0 0h24v24H0V0z\" fill=\"none\"/>\n",
              "    <path d=\"M18.56 5.44l.94 2.06.94-2.06 2.06-.94-2.06-.94-.94-2.06-.94 2.06-2.06.94zm-11 1L8.5 8.5l.94-2.06 2.06-.94-2.06-.94L8.5 2.5l-.94 2.06-2.06.94zm10 10l.94 2.06.94-2.06 2.06-.94-2.06-.94-.94-2.06-.94 2.06-2.06.94z\"/><path d=\"M17.41 7.96l-1.37-1.37c-.4-.4-.92-.59-1.43-.59-.52 0-1.04.2-1.43.59L10.3 9.45l-7.72 7.72c-.78.78-.78 2.05 0 2.83L4 21.41c.39.39.9.59 1.41.59.51 0 1.02-.2 1.41-.59l7.78-7.78 2.81-2.81c.8-.78.8-2.07 0-2.86zM5.41 20L4 18.59l7.72-7.72 1.47 1.35L5.41 20z\"/>\n",
              "  </svg>\n",
              "      </button>\n",
              "      \n",
              "  <style>\n",
              "    .colab-df-container {\n",
              "      display:flex;\n",
              "      flex-wrap:wrap;\n",
              "      gap: 12px;\n",
              "    }\n",
              "\n",
              "    .colab-df-convert {\n",
              "      background-color: #E8F0FE;\n",
              "      border: none;\n",
              "      border-radius: 50%;\n",
              "      cursor: pointer;\n",
              "      display: none;\n",
              "      fill: #1967D2;\n",
              "      height: 32px;\n",
              "      padding: 0 0 0 0;\n",
              "      width: 32px;\n",
              "    }\n",
              "\n",
              "    .colab-df-convert:hover {\n",
              "      background-color: #E2EBFA;\n",
              "      box-shadow: 0px 1px 2px rgba(60, 64, 67, 0.3), 0px 1px 3px 1px rgba(60, 64, 67, 0.15);\n",
              "      fill: #174EA6;\n",
              "    }\n",
              "\n",
              "    [theme=dark] .colab-df-convert {\n",
              "      background-color: #3B4455;\n",
              "      fill: #D2E3FC;\n",
              "    }\n",
              "\n",
              "    [theme=dark] .colab-df-convert:hover {\n",
              "      background-color: #434B5C;\n",
              "      box-shadow: 0px 1px 3px 1px rgba(0, 0, 0, 0.15);\n",
              "      filter: drop-shadow(0px 1px 2px rgba(0, 0, 0, 0.3));\n",
              "      fill: #FFFFFF;\n",
              "    }\n",
              "  </style>\n",
              "\n",
              "      <script>\n",
              "        const buttonEl =\n",
              "          document.querySelector('#df-dc465e91-39fb-4d8c-b174-0ff7752716e0 button.colab-df-convert');\n",
              "        buttonEl.style.display =\n",
              "          google.colab.kernel.accessAllowed ? 'block' : 'none';\n",
              "\n",
              "        async function convertToInteractive(key) {\n",
              "          const element = document.querySelector('#df-dc465e91-39fb-4d8c-b174-0ff7752716e0');\n",
              "          const dataTable =\n",
              "            await google.colab.kernel.invokeFunction('convertToInteractive',\n",
              "                                                     [key], {});\n",
              "          if (!dataTable) return;\n",
              "\n",
              "          const docLinkHtml = 'Like what you see? Visit the ' +\n",
              "            '<a target=\"_blank\" href=https://colab.research.google.com/notebooks/data_table.ipynb>data table notebook</a>'\n",
              "            + ' to learn more about interactive tables.';\n",
              "          element.innerHTML = '';\n",
              "          dataTable['output_type'] = 'display_data';\n",
              "          await google.colab.output.renderOutput(dataTable, element);\n",
              "          const docLink = document.createElement('div');\n",
              "          docLink.innerHTML = docLinkHtml;\n",
              "          element.appendChild(docLink);\n",
              "        }\n",
              "      </script>\n",
              "    </div>\n",
              "  </div>\n",
              "  "
            ]
          },
          "metadata": {},
          "execution_count": 11
        }
      ]
    },
    {
      "cell_type": "code",
      "source": [
        "#Divisão da notas por bins \n",
        "df['NU_NOTA_REDACAO_bin'] = pd.cut(df.NU_NOTA_REDACAO, bins = [0,200,400,600,800,1000])#500,600,700,800,900,1000])\n",
        "df.head(3)"
      ],
      "metadata": {
        "colab": {
          "base_uri": "https://localhost:8080/",
          "height": 237
        },
        "id": "qyOojOlvtPkS",
        "outputId": "b674f5d7-b5a8-4dc9-e485-73c7623103d6"
      },
      "execution_count": 12,
      "outputs": [
        {
          "output_type": "execute_result",
          "data": {
            "text/plain": [
              "  NO_MUNICIPIO_ESC SG_UF_ESC  TP_LOCALIZACAO_ESC TP_DEPENDENCIA_ADM_ESC Q001  \\\n",
              "0              NaN       NaN                 NaN                    NaN    F   \n",
              "1              NaN       NaN                 NaN                    NaN    B   \n",
              "2              NaN       NaN                 NaN                    NaN    B   \n",
              "\n",
              "  Q002 Q003 Q004  Q005 Q006  ... Q022 Q023 Q024 Q025 NU_NOTA_CN NU_NOTA_CH  \\\n",
              "0    F    B    B  3.00    D  ...    B    A    B    B        NaN     574.60   \n",
              "1    B    B    B  3.00    B  ...    C    A    A    A     505.90     551.80   \n",
              "2    C    C    B  3.00    C  ...    C    B    B    B        NaN        NaN   \n",
              "\n",
              "  NU_NOTA_LC NU_NOTA_MT NU_NOTA_REDACAO NU_NOTA_REDACAO_bin  \n",
              "0     472.60        NaN          760.00      (600.0, 800.0]  \n",
              "1     498.30     461.50          560.00      (400.0, 600.0]  \n",
              "2        NaN        NaN             NaN                 NaN  \n",
              "\n",
              "[3 rows x 35 columns]"
            ],
            "text/html": [
              "\n",
              "  <div id=\"df-ba1ed804-0a4d-440e-af72-e7aee26a0400\">\n",
              "    <div class=\"colab-df-container\">\n",
              "      <div>\n",
              "<style scoped>\n",
              "    .dataframe tbody tr th:only-of-type {\n",
              "        vertical-align: middle;\n",
              "    }\n",
              "\n",
              "    .dataframe tbody tr th {\n",
              "        vertical-align: top;\n",
              "    }\n",
              "\n",
              "    .dataframe thead th {\n",
              "        text-align: right;\n",
              "    }\n",
              "</style>\n",
              "<table border=\"1\" class=\"dataframe\">\n",
              "  <thead>\n",
              "    <tr style=\"text-align: right;\">\n",
              "      <th></th>\n",
              "      <th>NO_MUNICIPIO_ESC</th>\n",
              "      <th>SG_UF_ESC</th>\n",
              "      <th>TP_LOCALIZACAO_ESC</th>\n",
              "      <th>TP_DEPENDENCIA_ADM_ESC</th>\n",
              "      <th>Q001</th>\n",
              "      <th>Q002</th>\n",
              "      <th>Q003</th>\n",
              "      <th>Q004</th>\n",
              "      <th>Q005</th>\n",
              "      <th>Q006</th>\n",
              "      <th>...</th>\n",
              "      <th>Q022</th>\n",
              "      <th>Q023</th>\n",
              "      <th>Q024</th>\n",
              "      <th>Q025</th>\n",
              "      <th>NU_NOTA_CN</th>\n",
              "      <th>NU_NOTA_CH</th>\n",
              "      <th>NU_NOTA_LC</th>\n",
              "      <th>NU_NOTA_MT</th>\n",
              "      <th>NU_NOTA_REDACAO</th>\n",
              "      <th>NU_NOTA_REDACAO_bin</th>\n",
              "    </tr>\n",
              "  </thead>\n",
              "  <tbody>\n",
              "    <tr>\n",
              "      <th>0</th>\n",
              "      <td>NaN</td>\n",
              "      <td>NaN</td>\n",
              "      <td>NaN</td>\n",
              "      <td>NaN</td>\n",
              "      <td>F</td>\n",
              "      <td>F</td>\n",
              "      <td>B</td>\n",
              "      <td>B</td>\n",
              "      <td>3.00</td>\n",
              "      <td>D</td>\n",
              "      <td>...</td>\n",
              "      <td>B</td>\n",
              "      <td>A</td>\n",
              "      <td>B</td>\n",
              "      <td>B</td>\n",
              "      <td>NaN</td>\n",
              "      <td>574.60</td>\n",
              "      <td>472.60</td>\n",
              "      <td>NaN</td>\n",
              "      <td>760.00</td>\n",
              "      <td>(600.0, 800.0]</td>\n",
              "    </tr>\n",
              "    <tr>\n",
              "      <th>1</th>\n",
              "      <td>NaN</td>\n",
              "      <td>NaN</td>\n",
              "      <td>NaN</td>\n",
              "      <td>NaN</td>\n",
              "      <td>B</td>\n",
              "      <td>B</td>\n",
              "      <td>B</td>\n",
              "      <td>B</td>\n",
              "      <td>3.00</td>\n",
              "      <td>B</td>\n",
              "      <td>...</td>\n",
              "      <td>C</td>\n",
              "      <td>A</td>\n",
              "      <td>A</td>\n",
              "      <td>A</td>\n",
              "      <td>505.90</td>\n",
              "      <td>551.80</td>\n",
              "      <td>498.30</td>\n",
              "      <td>461.50</td>\n",
              "      <td>560.00</td>\n",
              "      <td>(400.0, 600.0]</td>\n",
              "    </tr>\n",
              "    <tr>\n",
              "      <th>2</th>\n",
              "      <td>NaN</td>\n",
              "      <td>NaN</td>\n",
              "      <td>NaN</td>\n",
              "      <td>NaN</td>\n",
              "      <td>B</td>\n",
              "      <td>C</td>\n",
              "      <td>C</td>\n",
              "      <td>B</td>\n",
              "      <td>3.00</td>\n",
              "      <td>C</td>\n",
              "      <td>...</td>\n",
              "      <td>C</td>\n",
              "      <td>B</td>\n",
              "      <td>B</td>\n",
              "      <td>B</td>\n",
              "      <td>NaN</td>\n",
              "      <td>NaN</td>\n",
              "      <td>NaN</td>\n",
              "      <td>NaN</td>\n",
              "      <td>NaN</td>\n",
              "      <td>NaN</td>\n",
              "    </tr>\n",
              "  </tbody>\n",
              "</table>\n",
              "<p>3 rows × 35 columns</p>\n",
              "</div>\n",
              "      <button class=\"colab-df-convert\" onclick=\"convertToInteractive('df-ba1ed804-0a4d-440e-af72-e7aee26a0400')\"\n",
              "              title=\"Convert this dataframe to an interactive table.\"\n",
              "              style=\"display:none;\">\n",
              "        \n",
              "  <svg xmlns=\"http://www.w3.org/2000/svg\" height=\"24px\"viewBox=\"0 0 24 24\"\n",
              "       width=\"24px\">\n",
              "    <path d=\"M0 0h24v24H0V0z\" fill=\"none\"/>\n",
              "    <path d=\"M18.56 5.44l.94 2.06.94-2.06 2.06-.94-2.06-.94-.94-2.06-.94 2.06-2.06.94zm-11 1L8.5 8.5l.94-2.06 2.06-.94-2.06-.94L8.5 2.5l-.94 2.06-2.06.94zm10 10l.94 2.06.94-2.06 2.06-.94-2.06-.94-.94-2.06-.94 2.06-2.06.94z\"/><path d=\"M17.41 7.96l-1.37-1.37c-.4-.4-.92-.59-1.43-.59-.52 0-1.04.2-1.43.59L10.3 9.45l-7.72 7.72c-.78.78-.78 2.05 0 2.83L4 21.41c.39.39.9.59 1.41.59.51 0 1.02-.2 1.41-.59l7.78-7.78 2.81-2.81c.8-.78.8-2.07 0-2.86zM5.41 20L4 18.59l7.72-7.72 1.47 1.35L5.41 20z\"/>\n",
              "  </svg>\n",
              "      </button>\n",
              "      \n",
              "  <style>\n",
              "    .colab-df-container {\n",
              "      display:flex;\n",
              "      flex-wrap:wrap;\n",
              "      gap: 12px;\n",
              "    }\n",
              "\n",
              "    .colab-df-convert {\n",
              "      background-color: #E8F0FE;\n",
              "      border: none;\n",
              "      border-radius: 50%;\n",
              "      cursor: pointer;\n",
              "      display: none;\n",
              "      fill: #1967D2;\n",
              "      height: 32px;\n",
              "      padding: 0 0 0 0;\n",
              "      width: 32px;\n",
              "    }\n",
              "\n",
              "    .colab-df-convert:hover {\n",
              "      background-color: #E2EBFA;\n",
              "      box-shadow: 0px 1px 2px rgba(60, 64, 67, 0.3), 0px 1px 3px 1px rgba(60, 64, 67, 0.15);\n",
              "      fill: #174EA6;\n",
              "    }\n",
              "\n",
              "    [theme=dark] .colab-df-convert {\n",
              "      background-color: #3B4455;\n",
              "      fill: #D2E3FC;\n",
              "    }\n",
              "\n",
              "    [theme=dark] .colab-df-convert:hover {\n",
              "      background-color: #434B5C;\n",
              "      box-shadow: 0px 1px 3px 1px rgba(0, 0, 0, 0.15);\n",
              "      filter: drop-shadow(0px 1px 2px rgba(0, 0, 0, 0.3));\n",
              "      fill: #FFFFFF;\n",
              "    }\n",
              "  </style>\n",
              "\n",
              "      <script>\n",
              "        const buttonEl =\n",
              "          document.querySelector('#df-ba1ed804-0a4d-440e-af72-e7aee26a0400 button.colab-df-convert');\n",
              "        buttonEl.style.display =\n",
              "          google.colab.kernel.accessAllowed ? 'block' : 'none';\n",
              "\n",
              "        async function convertToInteractive(key) {\n",
              "          const element = document.querySelector('#df-ba1ed804-0a4d-440e-af72-e7aee26a0400');\n",
              "          const dataTable =\n",
              "            await google.colab.kernel.invokeFunction('convertToInteractive',\n",
              "                                                     [key], {});\n",
              "          if (!dataTable) return;\n",
              "\n",
              "          const docLinkHtml = 'Like what you see? Visit the ' +\n",
              "            '<a target=\"_blank\" href=https://colab.research.google.com/notebooks/data_table.ipynb>data table notebook</a>'\n",
              "            + ' to learn more about interactive tables.';\n",
              "          element.innerHTML = '';\n",
              "          dataTable['output_type'] = 'display_data';\n",
              "          await google.colab.output.renderOutput(dataTable, element);\n",
              "          const docLink = document.createElement('div');\n",
              "          docLink.innerHTML = docLinkHtml;\n",
              "          element.appendChild(docLink);\n",
              "        }\n",
              "      </script>\n",
              "    </div>\n",
              "  </div>\n",
              "  "
            ]
          },
          "metadata": {},
          "execution_count": 12
        }
      ]
    },
    {
      "cell_type": "code",
      "execution_count": 27,
      "metadata": {
        "id": "i7ZIWsNV26aq",
        "colab": {
          "base_uri": "https://localhost:8080/",
          "height": 386
        },
        "outputId": "6e246ea5-ef72-4882-af17-6fad59ceb9eb"
      },
      "outputs": [
        {
          "output_type": "execute_result",
          "data": {
            "text/plain": [
              "<seaborn.axisgrid.FacetGrid at 0x7fe003194c40>"
            ]
          },
          "metadata": {},
          "execution_count": 27
        },
        {
          "output_type": "display_data",
          "data": {
            "text/plain": [
              "<Figure size 489.625x360 with 1 Axes>"
            ],
            "image/png": "[encoded data removed]"
          },
          "metadata": {}
        }
      ],
      "source": [
        "sns.set_style(\"darkgrid\")\n",
        "fig = sns.displot(df, x=\"TP_DEPENDENCIA_ADM_ESC\", hue=\"NU_NOTA_REDACAO_bin\", \n",
        "            stat=\"density\", common_norm=False,  multiple=\"dodge\", element=\"bars\",\n",
        "            palette=\"rocket\")\n",
        "\n",
        "fig._legend.set_title(\"Nota por faixa\")\n",
        "fig.set(xlabel='Esfera de administração das escolas', ylabel=\"Densidade\")"
      ]
    },
    {
      "cell_type": "code",
      "execution_count": 28,
      "metadata": {
        "id": "Ug80p6B826xD",
        "colab": {
          "base_uri": "https://localhost:8080/",
          "height": 1000
        },
        "outputId": "2867631a-db40-4678-dfb1-51ad38a930ab"
      },
      "outputs": [
        {
          "output_type": "display_data",
          "data": {
            "text/plain": [
              "<Figure size 489.625x360 with 1 Axes>"
            ],
            "image/png": "[encoded data removed]"
          },
          "metadata": {}
        },
        {
          "output_type": "display_data",
          "data": {
            "text/plain": [
              "<Figure size 489.625x360 with 1 Axes>"
            ],
            "image/png": "[encoded data removed]"
          },
          "metadata": {}
        },
        {
          "output_type": "display_data",
          "data": {
            "text/plain": [
              "<Figure size 489.625x360 with 1 Axes>"
            ],
            "image/png": "[encoded data removed]"
          },
          "metadata": {}
        },
        {
          "output_type": "display_data",
          "data": {
            "text/plain": [
              "<Figure size 489.625x360 with 1 Axes>"
            ],
            "image/png": "[encoded data removed]"
          },
          "metadata": {}
        }
      ],
      "source": [
        "from matplotlib import pyplot as plt\n",
        "sns.set_style(\"darkgrid\")\n",
        "\n",
        "adm_list = [\"Federal\",\"Estadual\",\"Municipal\",\"Privada\"]\n",
        "\n",
        "for adm in adm_list:\n",
        "  fig = sns.displot(df[df[\"TP_DEPENDENCIA_ADM_ESC\"]==adm], x=\"TP_DEPENDENCIA_ADM_ESC\", hue=\"NU_NOTA_REDACAO_bin\", \n",
        "              stat=\"percent\",  multiple=\"dodge\", element=\"bars\",\n",
        "              palette=\"rocket\")\n",
        "  fig._legend.set_title(\"Nota por faixa\")\n",
        "  fig.ax.set(xlabel='Esfera de administração das escolas', ylabel=\"Porcentagem\")\n",
        "\n",
        "  for p in fig.ax.patches:\n",
        "      txt = str(p.get_height().round(2)) + '%'\n",
        "      txt_x = p.get_x() \n",
        "      txt_y = p.get_height()\n",
        "      fig.ax.text(txt_x,txt_y,txt)\n",
        "\n",
        "  fig.savefig(adm+'.png')\n",
        " \n",
        "\n",
        "  \n",
        "  \n",
        "\n",
        "  "
      ]
    },
    {
      "cell_type": "markdown",
      "metadata": {
        "id": "X55l_MuwoSYc"
      },
      "source": [
        "exit"
      ]
    },
    {
      "cell_type": "code",
      "execution_count": null,
      "metadata": {
        "colab": {
          "base_uri": "https://localhost:8080/"
        },
        "id": "SPoIExSQv8J6",
        "outputId": "9adc2df3-19c6-417b-8ce5-b7ed022e8fc8"
      },
      "outputs": [
        {
          "name": "stdout",
          "output_type": "stream",
          "text": [
            "(50, 1)\n"
          ]
        },
        {
          "data": {
            "text/plain": [
              "NU_NOTA_REDACAO    1458887\n",
              "dtype: int64"
            ]
          },
          "execution_count": 193,
          "metadata": {},
          "output_type": "execute_result"
        }
      ],
      "source": [
        "# Variável: \n",
        "# 'NO_MUNICIPIO_ESC' Município (5001, 1) vs Munícipio Brasil tem: 5.568 + df \n",
        "# TP_DEPENDENCIA_ADM_ESC Administração federal, estadual, etc.\n",
        "df_count=pd.DataFrame(df['NU_NOTA_REDACAO'].value_counts())\n",
        "print(df_count.shape)\n",
        "df_count.sum()\n",
        "#df_count[df_count['NO_MUNICIPIO_ESC']>1000] #880621 rows × 76 columns"
      ]
    },
    {
      "cell_type": "code",
      "execution_count": null,
      "metadata": {
        "colab": {
          "base_uri": "https://localhost:8080/"
        },
        "id": "6C4sodbnZqma",
        "outputId": "f8dd2de6-10ca-4133-9462-fa9bd58e8ab1"
      },
      "outputs": [
        {
          "data": {
            "text/plain": [
              "nan"
            ]
          },
          "execution_count": 156,
          "metadata": {},
          "output_type": "execute_result"
        }
      ],
      "source": [
        "df['NU_NOTA_REDACAO'].isna()\n",
        "df['NU_NOTA_REDACAO'].iloc[2]"
      ]
    },
    {
      "cell_type": "code",
      "execution_count": null,
      "metadata": {
        "colab": {
          "base_uri": "https://localhost:8080/"
        },
        "id": "7EkHEynUFieR",
        "outputId": "e9aa6926-26b5-40e5-92b8-6174574bd4b8"
      },
      "outputs": [
        {
          "data": {
            "text/plain": [
              "426835"
            ]
          },
          "execution_count": 194,
          "metadata": {},
          "output_type": "execute_result"
        }
      ],
      "source": [
        "total_estudantes = df.shape[0] \n",
        "estudantes_com_nota = df_count.sum()[0]\n",
        "na = 254693\n",
        "total_estudantes - estudantes_com_nota"
      ]
    },
    {
      "cell_type": "code",
      "execution_count": null,
      "metadata": {
        "colab": {
          "base_uri": "https://localhost:8080/"
        },
        "id": "lCbZ65Y0YqZ0",
        "outputId": "79c9e113-89f6-48d1-84c2-fa3e9e353e14"
      },
      "outputs": [
        {
          "data": {
            "text/plain": [
              "305198"
            ]
          },
          "execution_count": 157,
          "metadata": {},
          "output_type": "execute_result"
        }
      ],
      "source": [
        "df['NU_NOTA_REDACAO'].isna().sum()\n"
      ]
    },
    {
      "cell_type": "code",
      "execution_count": null,
      "metadata": {
        "id": "2G-DxUupwW7I"
      },
      "outputs": [],
      "source": [
        "#\"ITENS_PROVA_2021.csv\"\n",
        "\n",
        "# Drop TP_LINGUA\n",
        "# Drop IN_ITEM_ADAPTADO\n",
        "# TX_MOTIVO_ABAN\t\n",
        "\n",
        "# TP_LINGUA Língua estrangeira ingles ou espanhol\n",
        "# IN_ITEM_ADAPTADO # fora do dicionario\n",
        "# TX_MOTIVO_ABAN # fora do dicionario\n",
        "\n",
        "#CO_HABILIDADE\n",
        "#NU_PARAM_A\n",
        "#NU_PARAM_B\n",
        "#NU_PARAM_C\n",
        "\n",
        "#\"MICRODADOS_ENEM_2021.csv\"\n",
        "\n",
        "#TP_ENSINO 808681\n",
        "\n",
        "# Localização escola\n",
        "#CO_MUNICIPIO_ESC 975033\n",
        "NO_MUNICIPIO_ESC 975033\n",
        "#CO_UF_ESC 975033\n",
        "SG_UF_ESC 975033\n",
        "\n",
        "# Administração escola\n",
        "TP_DEPENDENCIA_ADM_ESC 975033\n",
        "TP_LOCALIZACAO_ESC 975033\n",
        "#TP_SIT_FUNC_ESC 975033 # situação de funcionamento, extinta, etc.\n",
        "\n",
        "# Variáveis tipo de prova\n",
        "#CO_PROVA_CN 354678\n",
        "#CO_PROVA_CH 305197\n",
        "#CO_PROVA_LC 305197\n",
        "#CO_PROVA_MT 354678\n",
        "\n",
        "# Nota da prova por área de concentração\n",
        "NU_NOTA_CN 354678\n",
        "NU_NOTA_CH 305197\n",
        "NU_NOTA_LC 305197\n",
        "NU_NOTA_MT 354678\n",
        "\n",
        "# vetor de respostas e gabaritos\n",
        "# TX_RESPOSTAS_CN 354678\n",
        "# TX_RESPOSTAS_CH 305197\n",
        "# TX_RESPOSTAS_LC 305197\n",
        "# TX_RESPOSTAS_MT 354679\n",
        "# TP_LINGUA 1 Língua estrangeira ingles ou espanhol\n",
        "# TX_GABARITO_CN 354679\n",
        "# TX_GABARITO_CH 305198\n",
        "# TX_GABARITO_LC 305198\n",
        "# TX_GABARITO_MT 354679\n",
        "\n",
        "\n",
        "# nota redação considerando competencias e global\n",
        "# TP_STATUS_REDACAO 305198\n",
        "# NU_NOTA_COMP1 305198\n",
        "# NU_NOTA_COMP2 305198\n",
        "# NU_NOTA_COMP3 305198\n",
        "# NU_NOTA_COMP4 305198\n",
        "# NU_NOTA_COMP5 305198\n",
        "NU_NOTA_REDACAO 305198\n",
        "\n",
        "# observação sobre dados faltantes\n",
        "#0 sem localização se urbana ou rural\n",
        "TP_LOCALIZACAO_ESC 815320\n",
        "\n",
        "# sem municipio e sem sigla\n",
        "NO_MUNICIPIO_ESC 815320\n",
        "SG_UF_ESC 815320"
      ]
    },
    {
      "cell_type": "code",
      "execution_count": null,
      "metadata": {
        "colab": {
          "base_uri": "https://localhost:8080/",
          "height": 209
        },
        "id": "UXjmau8q4air",
        "outputId": "cf1d1d73-515b-4a2e-9c6d-f34e0e049aeb"
      },
      "outputs": [
        {
          "name": "stdout",
          "output_type": "stream",
          "text": [
            "707314\n",
            "880622\n"
          ]
        },
        {
          "data": {
            "text/html": [
              "\n",
              "  <div id=\"df-e4fcc2f5-fca9-4dd2-b35a-fd58032a6a38\">\n",
              "    <div class=\"colab-df-container\">\n",
              "      <div>\n",
              "<style scoped>\n",
              "    .dataframe tbody tr th:only-of-type {\n",
              "        vertical-align: middle;\n",
              "    }\n",
              "\n",
              "    .dataframe tbody tr th {\n",
              "        vertical-align: top;\n",
              "    }\n",
              "\n",
              "    .dataframe thead th {\n",
              "        text-align: right;\n",
              "    }\n",
              "</style>\n",
              "<table border=\"1\" class=\"dataframe\">\n",
              "  <thead>\n",
              "    <tr style=\"text-align: right;\">\n",
              "      <th></th>\n",
              "      <th>NU_INSCRICAO</th>\n",
              "      <th>NU_ANO</th>\n",
              "      <th>TP_FAIXA_ETARIA</th>\n",
              "      <th>TP_SEXO</th>\n",
              "      <th>TP_ESTADO_CIVIL</th>\n",
              "      <th>TP_COR_RACA</th>\n",
              "      <th>TP_NACIONALIDADE</th>\n",
              "      <th>TP_ST_CONCLUSAO</th>\n",
              "      <th>TP_ANO_CONCLUIU</th>\n",
              "      <th>TP_ESCOLA</th>\n",
              "      <th>...</th>\n",
              "      <th>Q016</th>\n",
              "      <th>Q017</th>\n",
              "      <th>Q018</th>\n",
              "      <th>Q019</th>\n",
              "      <th>Q020</th>\n",
              "      <th>Q021</th>\n",
              "      <th>Q022</th>\n",
              "      <th>Q023</th>\n",
              "      <th>Q024</th>\n",
              "      <th>Q025</th>\n",
              "    </tr>\n",
              "  </thead>\n",
              "  <tbody>\n",
              "    <tr>\n",
              "      <th>707314</th>\n",
              "      <td>210052491717</td>\n",
              "      <td>2021</td>\n",
              "      <td>8</td>\n",
              "      <td>F</td>\n",
              "      <td>1</td>\n",
              "      <td>4</td>\n",
              "      <td>3</td>\n",
              "      <td>1</td>\n",
              "      <td>4</td>\n",
              "      <td>1</td>\n",
              "      <td>...</td>\n",
              "      <td>NaN</td>\n",
              "      <td>NaN</td>\n",
              "      <td>NaN</td>\n",
              "      <td>NaN</td>\n",
              "      <td>NaN</td>\n",
              "      <td>NaN</td>\n",
              "      <td>NaN</td>\n",
              "      <td>NaN</td>\n",
              "      <td>NaN</td>\n",
              "      <td>NaN</td>\n",
              "    </tr>\n",
              "  </tbody>\n",
              "</table>\n",
              "<p>1 rows × 76 columns</p>\n",
              "</div>\n",
              "      <button class=\"colab-df-convert\" onclick=\"convertToInteractive('df-e4fcc2f5-fca9-4dd2-b35a-fd58032a6a38')\"\n",
              "              title=\"Convert this dataframe to an interactive table.\"\n",
              "              style=\"display:none;\">\n",
              "        \n",
              "  <svg xmlns=\"http://www.w3.org/2000/svg\" height=\"24px\"viewBox=\"0 0 24 24\"\n",
              "       width=\"24px\">\n",
              "    <path d=\"M0 0h24v24H0V0z\" fill=\"none\"/>\n",
              "    <path d=\"M18.56 5.44l.94 2.06.94-2.06 2.06-.94-2.06-.94-.94-2.06-.94 2.06-2.06.94zm-11 1L8.5 8.5l.94-2.06 2.06-.94-2.06-.94L8.5 2.5l-.94 2.06-2.06.94zm10 10l.94 2.06.94-2.06 2.06-.94-2.06-.94-.94-2.06-.94 2.06-2.06.94z\"/><path d=\"M17.41 7.96l-1.37-1.37c-.4-.4-.92-.59-1.43-.59-.52 0-1.04.2-1.43.59L10.3 9.45l-7.72 7.72c-.78.78-.78 2.05 0 2.83L4 21.41c.39.39.9.59 1.41.59.51 0 1.02-.2 1.41-.59l7.78-7.78 2.81-2.81c.8-.78.8-2.07 0-2.86zM5.41 20L4 18.59l7.72-7.72 1.47 1.35L5.41 20z\"/>\n",
              "  </svg>\n",
              "      </button>\n",
              "      \n",
              "  <style>\n",
              "    .colab-df-container {\n",
              "      display:flex;\n",
              "      flex-wrap:wrap;\n",
              "      gap: 12px;\n",
              "    }\n",
              "\n",
              "    .colab-df-convert {\n",
              "      background-color: #E8F0FE;\n",
              "      border: none;\n",
              "      border-radius: 50%;\n",
              "      cursor: pointer;\n",
              "      display: none;\n",
              "      fill: #1967D2;\n",
              "      height: 32px;\n",
              "      padding: 0 0 0 0;\n",
              "      width: 32px;\n",
              "    }\n",
              "\n",
              "    .colab-df-convert:hover {\n",
              "      background-color: #E2EBFA;\n",
              "      box-shadow: 0px 1px 2px rgba(60, 64, 67, 0.3), 0px 1px 3px 1px rgba(60, 64, 67, 0.15);\n",
              "      fill: #174EA6;\n",
              "    }\n",
              "\n",
              "    [theme=dark] .colab-df-convert {\n",
              "      background-color: #3B4455;\n",
              "      fill: #D2E3FC;\n",
              "    }\n",
              "\n",
              "    [theme=dark] .colab-df-convert:hover {\n",
              "      background-color: #434B5C;\n",
              "      box-shadow: 0px 1px 3px 1px rgba(0, 0, 0, 0.15);\n",
              "      filter: drop-shadow(0px 1px 2px rgba(0, 0, 0, 0.3));\n",
              "      fill: #FFFFFF;\n",
              "    }\n",
              "  </style>\n",
              "\n",
              "      <script>\n",
              "        const buttonEl =\n",
              "          document.querySelector('#df-e4fcc2f5-fca9-4dd2-b35a-fd58032a6a38 button.colab-df-convert');\n",
              "        buttonEl.style.display =\n",
              "          google.colab.kernel.accessAllowed ? 'block' : 'none';\n",
              "\n",
              "        async function convertToInteractive(key) {\n",
              "          const element = document.querySelector('#df-e4fcc2f5-fca9-4dd2-b35a-fd58032a6a38');\n",
              "          const dataTable =\n",
              "            await google.colab.kernel.invokeFunction('convertToInteractive',\n",
              "                                                     [key], {});\n",
              "          if (!dataTable) return;\n",
              "\n",
              "          const docLinkHtml = 'Like what you see? Visit the ' +\n",
              "            '<a target=\"_blank\" href=https://colab.research.google.com/notebooks/data_table.ipynb>data table notebook</a>'\n",
              "            + ' to learn more about interactive tables.';\n",
              "          element.innerHTML = '';\n",
              "          dataTable['output_type'] = 'display_data';\n",
              "          await google.colab.output.renderOutput(dataTable, element);\n",
              "          const docLink = document.createElement('div');\n",
              "          docLink.innerHTML = docLinkHtml;\n",
              "          element.appendChild(docLink);\n",
              "        }\n",
              "      </script>\n",
              "    </div>\n",
              "  </div>\n",
              "  "
            ],
            "text/plain": [
              "        NU_INSCRICAO  NU_ANO  TP_FAIXA_ETARIA TP_SEXO  TP_ESTADO_CIVIL  \\\n",
              "707314  210052491717    2021                8       F                1   \n",
              "\n",
              "        TP_COR_RACA  TP_NACIONALIDADE  TP_ST_CONCLUSAO  TP_ANO_CONCLUIU  \\\n",
              "707314            4                 3                1                4   \n",
              "\n",
              "        TP_ESCOLA  ...  Q016  Q017  Q018 Q019  Q020 Q021  Q022  Q023  Q024  \\\n",
              "707314          1  ...   NaN   NaN   NaN  NaN   NaN  NaN   NaN   NaN   NaN   \n",
              "\n",
              "        Q025  \n",
              "707314   NaN  \n",
              "\n",
              "[1 rows x 76 columns]"
            ]
          },
          "execution_count": 71,
          "metadata": {},
          "output_type": "execute_result"
        }
      ],
      "source": [
        "i=0\n",
        "for value in df[\"Q001\"].isna()==True:\n",
        "  if value ==True:\n",
        "    print(i)\n",
        "  i+=1\n",
        "#df.iloc[[880622]] # drop\n",
        "#df.iloc[[707314]] # drop    "
      ]
    },
    {
      "cell_type": "code",
      "execution_count": null,
      "metadata": {
        "id": "D7myLNNn38h2"
      },
      "outputs": [],
      "source": [
        "for column in df.columns:\n",
        "  sum = df[column].isna().sum()\n",
        "  #print(column,sum)\n",
        "  if sum!=0: print(column, sum)"
      ]
    },
    {
      "cell_type": "code",
      "execution_count": null,
      "metadata": {
        "id": "3RdU3yuy65Sk"
      },
      "outputs": [],
      "source": [
        "# Dados Q limpeza\n",
        "df = df.drop([880622, 707314])\n"
      ]
    },
    {
      "cell_type": "code",
      "execution_count": null,
      "metadata": {
        "colab": {
          "base_uri": "https://localhost:8080/"
        },
        "id": "U9tziB7o7i06",
        "outputId": "23a25e3a-fec9-49a8-fca8-958d33adff93"
      },
      "outputs": [
        {
          "data": {
            "text/plain": [
              "2.0    187882\n",
              "4.0     53038\n",
              "1.0     14878\n",
              "3.0      1963\n",
              "Name: TP_DEPENDENCIA_ADM_ESC, dtype: int64"
            ]
          },
          "execution_count": 79,
          "metadata": {},
          "output_type": "execute_result"
        }
      ],
      "source": [
        "df['TP_DEPENDENCIA_ADM_ESC'].value_counts()"
      ]
    },
    {
      "cell_type": "code",
      "execution_count": null,
      "metadata": {
        "colab": {
          "base_uri": "https://localhost:8080/"
        },
        "id": "KvLK0YIJx4kJ",
        "outputId": "219d1953-7305-4072-c59a-0df13caf9863"
      },
      "outputs": [
        {
          "name": "stdout",
          "output_type": "stream",
          "text": [
            "total_colunas = 76\n",
            "colunas retiradas =  19\n"
          ]
        }
      ],
      "source": [
        "# Limpar\n",
        "out=list()\n",
        "print('total_colunas =', len(df.columns))\n",
        "df_clean = df.dropna(axis=1) #how=\"all\")\n",
        "print('colunas retiradas = ',len(df_clean.columns))\n",
        "for c in df.columns:\n",
        "  if c not in df_clean.columns:\n",
        "    out.append(c)"
      ]
    },
    {
      "cell_type": "code",
      "execution_count": null,
      "metadata": {
        "colab": {
          "base_uri": "https://localhost:8080/"
        },
        "id": "5rDk-5IDziSA",
        "outputId": "c8f6f70c-6bf4-4570-af9c-ef0285281bd0"
      },
      "outputs": [
        {
          "data": {
            "text/plain": [
              "Index(['NU_INSCRICAO', 'NU_ANO', 'TP_FAIXA_ETARIA', 'TP_SEXO',\n",
              "       'TP_ESTADO_CIVIL', 'TP_COR_RACA', 'TP_NACIONALIDADE', 'TP_ST_CONCLUSAO',\n",
              "       'TP_ANO_CONCLUIU', 'TP_ESCOLA', 'IN_TREINEIRO', 'CO_MUNICIPIO_PROVA',\n",
              "       'NO_MUNICIPIO_PROVA', 'CO_UF_PROVA', 'SG_UF_PROVA', 'TP_PRESENCA_CN',\n",
              "       'TP_PRESENCA_CH', 'TP_PRESENCA_LC', 'TP_PRESENCA_MT'],\n",
              "      dtype='object')"
            ]
          },
          "execution_count": 88,
          "metadata": {},
          "output_type": "execute_result"
        }
      ],
      "source": [
        "df_clean.columns"
      ]
    },
    {
      "cell_type": "code",
      "execution_count": null,
      "metadata": {
        "id": "vHRySQ_d-YMW"
      },
      "outputs": [],
      "source": []
    }
  ],
  "metadata": {
    "colab": {
      "provenance": []
    },
    "kernelspec": {
      "display_name": "Python 3",
      "name": "python3"
    },
    "language_info": {
      "name": "python"
    }
  },
  "nbformat": 4,
  "nbformat_minor": 0
}